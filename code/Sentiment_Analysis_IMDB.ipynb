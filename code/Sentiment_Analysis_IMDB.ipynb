{
 "cells": [
  {
   "cell_type": "code",
   "execution_count": 1,
   "id": "e5a33877",
   "metadata": {},
   "outputs": [
    {
     "name": "stderr",
     "output_type": "stream",
     "text": [
      "[nltk_data] Downloading package stopwords to\n",
      "[nltk_data]     C:\\Users\\ACER\\AppData\\Roaming\\nltk_data...\n",
      "[nltk_data]   Package stopwords is already up-to-date!\n",
      "[nltk_data] Downloading package wordnet to\n",
      "[nltk_data]     C:\\Users\\ACER\\AppData\\Roaming\\nltk_data...\n",
      "[nltk_data]   Package wordnet is already up-to-date!\n",
      "[nltk_data] Downloading package punkt to\n",
      "[nltk_data]     C:\\Users\\ACER\\AppData\\Roaming\\nltk_data...\n",
      "[nltk_data]   Package punkt is already up-to-date!\n"
     ]
    }
   ],
   "source": [
    "# Import libs\n",
    "import warnings\n",
    "import numpy as np\n",
    "import pandas as pd\n",
    "from nltk.stem import WordNetLemmatizer\n",
    "from nltk.tokenize import word_tokenize\n",
    "from sklearn.linear_model import LogisticRegression\n",
    "from sklearn.model_selection import cross_val_score\n",
    "from sklearn.naive_bayes import MultinomialNB\n",
    "from sklearn.pipeline import Pipeline\n",
    "from sklearn.pipeline import make_pipeline\n",
    "from sklearn.svm import LinearSVC\n",
    "\n",
    "warnings.filterwarnings(action=\"ignore\")\n",
    "import os\n",
    "import re\n",
    "import nltk\n",
    "import sys\n",
    "\n",
    "nltk.download('stopwords')\n",
    "nltk.download('wordnet')\n",
    "nltk.download('punkt')\n",
    "\n",
    "from sklearn.model_selection import train_test_split\n",
    "from sklearn.feature_extraction.text import CountVectorizer\n",
    "from sklearn.feature_extraction.text import TfidfVectorizer\n",
    "from sklearn.model_selection import GridSearchCV\n",
    "from sklearn.metrics import accuracy_score, precision_score, recall_score, f1_score\n",
    "\n",
    "from keras.preprocessing.text import Tokenizer\n",
    "from keras_preprocessing.sequence import pad_sequences\n",
    "from keras.models import Sequential\n",
    "from keras.layers import LSTM, Dense, Embedding, SpatialDropout1D\n",
    "from sklearn.preprocessing import LabelEncoder\n",
    "from sklearn.model_selection import RandomizedSearchCV\n",
    "from keras.wrappers.scikit_learn import KerasClassifier\n",
    "\n",
    "from gensim.parsing.preprocessing import remove_stopwords\n",
    "from gensim.parsing.preprocessing import strip_punctuation\n",
    "from gensim.parsing.preprocessing import strip_multiple_whitespaces\n",
    "import en_core_web_sm\n",
    "\n",
    "en_core_web_sm.load()\n",
    "from nltk.corpus import stopwords"
   ]
  },
  {
   "cell_type": "markdown",
   "id": "70f4b7e9",
   "metadata": {},
   "source": [
    "# Load Dataset"
   ]
  },
  {
   "cell_type": "code",
   "execution_count": 2,
   "id": "c6ba87ed",
   "metadata": {},
   "outputs": [
    {
     "data": {
      "text/plain": [
       "'utf-8'"
      ]
     },
     "execution_count": 2,
     "metadata": {},
     "output_type": "execute_result"
    }
   ],
   "source": [
    "# Data file path\n",
    "PATH = \"E:\\\\NLP\\\\Final\\\\aclImdb\"\n",
    "sys.getdefaultencoding()"
   ]
  },
  {
   "cell_type": "code",
   "execution_count": 3,
   "id": "9cf67214",
   "metadata": {},
   "outputs": [],
   "source": [
    "# Separating train files to positive and negative\n",
    "posFiles = [x for x in os.listdir(PATH + \"/train/pos/\") if x.endswith(\".txt\")]\n",
    "negFiles = [x for x in os.listdir(PATH + \"/train/neg/\") if x.endswith(\".txt\")]"
   ]
  },
  {
   "cell_type": "code",
   "execution_count": 4,
   "id": "76d04a2e",
   "metadata": {},
   "outputs": [],
   "source": [
    "# Separating test files to positive and negative\n",
    "test_pos_Files = [x for x in os.listdir(PATH + \"/test/pos/\") if x.endswith(\".txt\")]\n",
    "test_neg_Files = [x for x in os.listdir(PATH + \"/test/neg/\") if x.endswith(\".txt\")]"
   ]
  },
  {
   "cell_type": "code",
   "execution_count": 5,
   "id": "aaa55841",
   "metadata": {},
   "outputs": [],
   "source": [
    "P_train = []\n",
    "N_train = []\n",
    "\n",
    "for nfile in negFiles:\n",
    "    with open(PATH + \"/train/neg/\" + nfile, encoding=\"utf-8\") as f:\n",
    "        N_train.append(f.read())\n",
    "        \n",
    "for pfile in posFiles:\n",
    "    with open(PATH + \"/train/pos/\" + pfile, encoding=\"utf-8\") as f:\n",
    "        P_train.append(f.read())"
   ]
  },
  {
   "cell_type": "code",
   "execution_count": 6,
   "id": "e82fc72b",
   "metadata": {},
   "outputs": [],
   "source": [
    "P_test = []\n",
    "N_test = []\n",
    "\n",
    "for ptestfile in test_pos_Files:\n",
    "    with open(PATH + \"/test/pos/\" + ptestfile, encoding=\"utf-8\") as f:\n",
    "        P_test.append(f.read())\n",
    "        \n",
    "for ntestfile in test_neg_Files:\n",
    "    with open(PATH + \"/test/neg/\" + ntestfile, encoding=\"utf-8\") as f:\n",
    "        N_test.append(f.read())"
   ]
  },
  {
   "cell_type": "code",
   "execution_count": 7,
   "id": "7c8fa410",
   "metadata": {},
   "outputs": [],
   "source": [
    "reviews_train = pd.concat([\n",
    "    pd.DataFrame({\"review\": P_train, \"Label\": 1, \"file\": posFiles}),\n",
    "    pd.DataFrame({\"review\": N_train, \"Label\": -1, \"file\": negFiles})\n",
    "], ignore_index=True).sample(frac=1, random_state=1)\n",
    "\n",
    "reviews_test = pd.concat([\n",
    "    pd.DataFrame({\"review\": P_test, \"Label\": 1, \"file\": test_pos_Files}),\n",
    "    pd.DataFrame({\"review\": N_test, \"Label\": -1, \"file\": test_neg_Files})\n",
    "], ignore_index=True).sample(frac=1, random_state=1)"
   ]
  },
  {
   "cell_type": "code",
   "execution_count": 8,
   "id": "74ce3a3b",
   "metadata": {},
   "outputs": [
    {
     "data": {
      "text/html": [
       "<div>\n",
       "<style scoped>\n",
       "    .dataframe tbody tr th:only-of-type {\n",
       "        vertical-align: middle;\n",
       "    }\n",
       "\n",
       "    .dataframe tbody tr th {\n",
       "        vertical-align: top;\n",
       "    }\n",
       "\n",
       "    .dataframe thead th {\n",
       "        text-align: right;\n",
       "    }\n",
       "</style>\n",
       "<table border=\"1\" class=\"dataframe\">\n",
       "  <thead>\n",
       "    <tr style=\"text-align: right;\">\n",
       "      <th></th>\n",
       "      <th>review</th>\n",
       "      <th>Label</th>\n",
       "      <th>file</th>\n",
       "    </tr>\n",
       "  </thead>\n",
       "  <tbody>\n",
       "    <tr>\n",
       "      <th>21492</th>\n",
       "      <td>I have copy of this on VHS, I think they (The ...</td>\n",
       "      <td>-1</td>\n",
       "      <td>6844_1.txt</td>\n",
       "    </tr>\n",
       "    <tr>\n",
       "      <th>9488</th>\n",
       "      <td>After several extremely well ratings to the po...</td>\n",
       "      <td>1</td>\n",
       "      <td>7290_10.txt</td>\n",
       "    </tr>\n",
       "    <tr>\n",
       "      <th>16933</th>\n",
       "      <td>I still don't know why I forced myself to sit ...</td>\n",
       "      <td>-1</td>\n",
       "      <td>2740_1.txt</td>\n",
       "    </tr>\n",
       "    <tr>\n",
       "      <th>12604</th>\n",
       "      <td>Mt little sister and I are self-proclaimed hor...</td>\n",
       "      <td>-1</td>\n",
       "      <td>10094_1.txt</td>\n",
       "    </tr>\n",
       "    <tr>\n",
       "      <th>8222</th>\n",
       "      <td>I have personally seen many Disney movies in m...</td>\n",
       "      <td>1</td>\n",
       "      <td>6150_7.txt</td>\n",
       "    </tr>\n",
       "    <tr>\n",
       "      <th>...</th>\n",
       "      <td>...</td>\n",
       "      <td>...</td>\n",
       "      <td>...</td>\n",
       "    </tr>\n",
       "    <tr>\n",
       "      <th>10955</th>\n",
       "      <td>Diane Keaton gave an outstanding performance i...</td>\n",
       "      <td>1</td>\n",
       "      <td>8610_10.txt</td>\n",
       "    </tr>\n",
       "    <tr>\n",
       "      <th>17289</th>\n",
       "      <td>This has to be creepiest, most twisted holiday...</td>\n",
       "      <td>-1</td>\n",
       "      <td>3060_1.txt</td>\n",
       "    </tr>\n",
       "    <tr>\n",
       "      <th>5192</th>\n",
       "      <td>Do not expect a depiction of the \"truth\". Howe...</td>\n",
       "      <td>1</td>\n",
       "      <td>3423_7.txt</td>\n",
       "    </tr>\n",
       "    <tr>\n",
       "      <th>12172</th>\n",
       "      <td>The League of Gentlemen is one of the funniest...</td>\n",
       "      <td>1</td>\n",
       "      <td>9706_10.txt</td>\n",
       "    </tr>\n",
       "    <tr>\n",
       "      <th>235</th>\n",
       "      <td>Narratives  whether written, visual or poetic...</td>\n",
       "      <td>1</td>\n",
       "      <td>10211_7.txt</td>\n",
       "    </tr>\n",
       "  </tbody>\n",
       "</table>\n",
       "<p>25000 rows × 3 columns</p>\n",
       "</div>"
      ],
      "text/plain": [
       "                                                  review  Label         file\n",
       "21492  I have copy of this on VHS, I think they (The ...     -1   6844_1.txt\n",
       "9488   After several extremely well ratings to the po...      1  7290_10.txt\n",
       "16933  I still don't know why I forced myself to sit ...     -1   2740_1.txt\n",
       "12604  Mt little sister and I are self-proclaimed hor...     -1  10094_1.txt\n",
       "8222   I have personally seen many Disney movies in m...      1   6150_7.txt\n",
       "...                                                  ...    ...          ...\n",
       "10955  Diane Keaton gave an outstanding performance i...      1  8610_10.txt\n",
       "17289  This has to be creepiest, most twisted holiday...     -1   3060_1.txt\n",
       "5192   Do not expect a depiction of the \"truth\". Howe...      1   3423_7.txt\n",
       "12172  The League of Gentlemen is one of the funniest...      1  9706_10.txt\n",
       "235    Narratives  whether written, visual or poetic...      1  10211_7.txt\n",
       "\n",
       "[25000 rows x 3 columns]"
      ]
     },
     "execution_count": 8,
     "metadata": {},
     "output_type": "execute_result"
    }
   ],
   "source": [
    "reviews_train"
   ]
  },
  {
   "cell_type": "code",
   "execution_count": 9,
   "id": "a2be63e0",
   "metadata": {},
   "outputs": [
    {
     "data": {
      "text/html": [
       "<div>\n",
       "<style scoped>\n",
       "    .dataframe tbody tr th:only-of-type {\n",
       "        vertical-align: middle;\n",
       "    }\n",
       "\n",
       "    .dataframe tbody tr th {\n",
       "        vertical-align: top;\n",
       "    }\n",
       "\n",
       "    .dataframe thead th {\n",
       "        text-align: right;\n",
       "    }\n",
       "</style>\n",
       "<table border=\"1\" class=\"dataframe\">\n",
       "  <thead>\n",
       "    <tr style=\"text-align: right;\">\n",
       "      <th></th>\n",
       "      <th>review</th>\n",
       "      <th>Label</th>\n",
       "      <th>file</th>\n",
       "    </tr>\n",
       "  </thead>\n",
       "  <tbody>\n",
       "    <tr>\n",
       "      <th>21492</th>\n",
       "      <td>A movie theater with a bad history of past gru...</td>\n",
       "      <td>-1</td>\n",
       "      <td>6844_2.txt</td>\n",
       "    </tr>\n",
       "    <tr>\n",
       "      <th>9488</th>\n",
       "      <td>\"Here On Earth\" is a surprising beautiful roma...</td>\n",
       "      <td>1</td>\n",
       "      <td>7290_10.txt</td>\n",
       "    </tr>\n",
       "    <tr>\n",
       "      <th>16933</th>\n",
       "      <td>I just watched Descent. Gawds what an awful mo...</td>\n",
       "      <td>-1</td>\n",
       "      <td>2740_3.txt</td>\n",
       "    </tr>\n",
       "    <tr>\n",
       "      <th>12604</th>\n",
       "      <td>In a nutshell the movie is about a gang war in...</td>\n",
       "      <td>-1</td>\n",
       "      <td>10094_4.txt</td>\n",
       "    </tr>\n",
       "    <tr>\n",
       "      <th>8222</th>\n",
       "      <td>Instead of watching the recycled history of \"P...</td>\n",
       "      <td>1</td>\n",
       "      <td>6150_7.txt</td>\n",
       "    </tr>\n",
       "    <tr>\n",
       "      <th>...</th>\n",
       "      <td>...</td>\n",
       "      <td>...</td>\n",
       "      <td>...</td>\n",
       "    </tr>\n",
       "    <tr>\n",
       "      <th>10955</th>\n",
       "      <td>This movie is a fascinating drama about the Ma...</td>\n",
       "      <td>1</td>\n",
       "      <td>8610_8.txt</td>\n",
       "    </tr>\n",
       "    <tr>\n",
       "      <th>17289</th>\n",
       "      <td>It's too kind to call this a \"fictionalized\" a...</td>\n",
       "      <td>-1</td>\n",
       "      <td>3060_3.txt</td>\n",
       "    </tr>\n",
       "    <tr>\n",
       "      <th>5192</th>\n",
       "      <td>I was unsure of this movie before renting and ...</td>\n",
       "      <td>1</td>\n",
       "      <td>3423_9.txt</td>\n",
       "    </tr>\n",
       "    <tr>\n",
       "      <th>12172</th>\n",
       "      <td>Just got out of an advance screening, and wow ...</td>\n",
       "      <td>1</td>\n",
       "      <td>9706_7.txt</td>\n",
       "    </tr>\n",
       "    <tr>\n",
       "      <th>235</th>\n",
       "      <td>I doubt if the real story of the development o...</td>\n",
       "      <td>1</td>\n",
       "      <td>10211_8.txt</td>\n",
       "    </tr>\n",
       "  </tbody>\n",
       "</table>\n",
       "<p>25000 rows × 3 columns</p>\n",
       "</div>"
      ],
      "text/plain": [
       "                                                  review  Label         file\n",
       "21492  A movie theater with a bad history of past gru...     -1   6844_2.txt\n",
       "9488   \"Here On Earth\" is a surprising beautiful roma...      1  7290_10.txt\n",
       "16933  I just watched Descent. Gawds what an awful mo...     -1   2740_3.txt\n",
       "12604  In a nutshell the movie is about a gang war in...     -1  10094_4.txt\n",
       "8222   Instead of watching the recycled history of \"P...      1   6150_7.txt\n",
       "...                                                  ...    ...          ...\n",
       "10955  This movie is a fascinating drama about the Ma...      1   8610_8.txt\n",
       "17289  It's too kind to call this a \"fictionalized\" a...     -1   3060_3.txt\n",
       "5192   I was unsure of this movie before renting and ...      1   3423_9.txt\n",
       "12172  Just got out of an advance screening, and wow ...      1   9706_7.txt\n",
       "235    I doubt if the real story of the development o...      1  10211_8.txt\n",
       "\n",
       "[25000 rows x 3 columns]"
      ]
     },
     "execution_count": 9,
     "metadata": {},
     "output_type": "execute_result"
    }
   ],
   "source": [
    "reviews_test"
   ]
  },
  {
   "cell_type": "markdown",
   "id": "dc0deb5d",
   "metadata": {},
   "source": [
    "# Data Preprocessing"
   ]
  },
  {
   "cell_type": "markdown",
   "id": "b83007ca",
   "metadata": {},
   "source": [
    "Here we remove html tags, urls, special characters,Lemmanatize-\n",
    "which is better than stemming as it gives a proper word after cutting"
   ]
  },
  {
   "cell_type": "code",
   "execution_count": 10,
   "id": "40654740",
   "metadata": {},
   "outputs": [],
   "source": [
    "stopWords = stopwords.words('english')\n",
    "lemmatizer = WordNetLemmatizer()"
   ]
  },
  {
   "cell_type": "code",
   "execution_count": 11,
   "id": "fc823c85",
   "metadata": {},
   "outputs": [],
   "source": [
    "def rmvhtmltags(text):\n",
    "    remreg = re.compile('<.*?>')\n",
    "    cleartext = re.sub(remreg, '', text)\n",
    "    return cleartext\n",
    "\n",
    "def remove_urls(vTEXT):\n",
    "    vTEXT = re.sub(r'(https|http)?:\\/\\/(\\w|\\.|\\/|\\?|\\=|\\&|\\%)*\\b', '', vTEXT, flags=re.MULTILINE)\n",
    "    return (vTEXT)\n",
    "\n",
    "def rmvspclcharacter(text):\n",
    "    clearspcl = re.sub(r'[^A-Za-z0-9\\s.]', r'', str(text).lower())\n",
    "    clearspcl = re.sub(r'\\n', r' ', text)\n",
    "    clearspcl = \" \".join([word for word in text.split() if word not in stopWords])\n",
    "    return clearspcl\n",
    "\n",
    "\n",
    "def lemmatize_words(text):\n",
    "    lemmatized_words = [lemmatizer.lemmatize(word, 'v') for word in text.split()]\n",
    "    return ('  '.join(lemmatized_words))\n",
    "\n",
    "\n",
    "# A function dataprocessing is defined where all other functions are included\n",
    "def dataprocessing(x):\n",
    "    x = rmvhtmltags(x)\n",
    "    x = remove_urls(x)\n",
    "    x = x.lower()\n",
    "    x = rmvspclcharacter(x)\n",
    "    x = remove_stopwords(x)\n",
    "    x = strip_punctuation(x)\n",
    "    x = strip_multiple_whitespaces(x)\n",
    "    x = lemmatize_words(x)\n",
    "\n",
    "    x = ' '.join([re.sub(r'\\d+', '', i) for i in word_tokenize(x)])\n",
    "    return x"
   ]
  },
  {
   "cell_type": "code",
   "execution_count": 12,
   "id": "8eb05353",
   "metadata": {},
   "outputs": [],
   "source": [
    "reviews_train['review'] = reviews_train['review'].map(lambda x: dataprocessing(x))\n",
    "reviews_test['review'] = reviews_test['review'].map(lambda x: dataprocessing(x))"
   ]
  },
  {
   "cell_type": "code",
   "execution_count": 13,
   "id": "81491497",
   "metadata": {},
   "outputs": [
    {
     "data": {
      "text/html": [
       "<div>\n",
       "<style scoped>\n",
       "    .dataframe tbody tr th:only-of-type {\n",
       "        vertical-align: middle;\n",
       "    }\n",
       "\n",
       "    .dataframe tbody tr th {\n",
       "        vertical-align: top;\n",
       "    }\n",
       "\n",
       "    .dataframe thead th {\n",
       "        text-align: right;\n",
       "    }\n",
       "</style>\n",
       "<table border=\"1\" class=\"dataframe\">\n",
       "  <thead>\n",
       "    <tr style=\"text-align: right;\">\n",
       "      <th></th>\n",
       "      <th>review</th>\n",
       "      <th>Label</th>\n",
       "      <th>file</th>\n",
       "    </tr>\n",
       "  </thead>\n",
       "  <tbody>\n",
       "    <tr>\n",
       "      <th>21492</th>\n",
       "      <td>copy vhs think the television network play yea...</td>\n",
       "      <td>-1</td>\n",
       "      <td>6844_1.txt</td>\n",
       "    </tr>\n",
       "    <tr>\n",
       "      <th>9488</th>\n",
       "      <td>extremely rat point superb extremely please fi...</td>\n",
       "      <td>1</td>\n",
       "      <td>7290_10.txt</td>\n",
       "    </tr>\n",
       "    <tr>\n",
       "      <th>16933</th>\n",
       "      <td>know force sit thing film worth memorex dvd r ...</td>\n",
       "      <td>-1</td>\n",
       "      <td>2740_1.txt</td>\n",
       "    </tr>\n",
       "    <tr>\n",
       "      <th>12604</th>\n",
       "      <td>mt little sister self proclaim horror movie bu...</td>\n",
       "      <td>-1</td>\n",
       "      <td>10094_1.txt</td>\n",
       "    </tr>\n",
       "    <tr>\n",
       "      <th>8222</th>\n",
       "      <td>personally see disney movies lifetime absolute...</td>\n",
       "      <td>1</td>\n",
       "      <td>6150_7.txt</td>\n",
       "    </tr>\n",
       "  </tbody>\n",
       "</table>\n",
       "</div>"
      ],
      "text/plain": [
       "                                                  review  Label         file\n",
       "21492  copy vhs think the television network play yea...     -1   6844_1.txt\n",
       "9488   extremely rat point superb extremely please fi...      1  7290_10.txt\n",
       "16933  know force sit thing film worth memorex dvd r ...     -1   2740_1.txt\n",
       "12604  mt little sister self proclaim horror movie bu...     -1  10094_1.txt\n",
       "8222   personally see disney movies lifetime absolute...      1   6150_7.txt"
      ]
     },
     "execution_count": 13,
     "metadata": {},
     "output_type": "execute_result"
    }
   ],
   "source": [
    "reviews_train[:5]"
   ]
  },
  {
   "cell_type": "markdown",
   "id": "b30604a5",
   "metadata": {},
   "source": [
    "# Model Training"
   ]
  },
  {
   "cell_type": "code",
   "execution_count": 14,
   "id": "ef885d16",
   "metadata": {},
   "outputs": [],
   "source": [
    "# separating them into lists\n",
    "y_train_label = reviews_train['Label'].tolist()\n",
    "x_train_review = reviews_train['review'].tolist()\n",
    "\n",
    "y_test_label = reviews_test['Label'].tolist()\n",
    "x_test_review = reviews_test['review'].tolist()"
   ]
  },
  {
   "cell_type": "code",
   "execution_count": 15,
   "id": "9d920960",
   "metadata": {},
   "outputs": [],
   "source": [
    "# Split to train and test data\n",
    "X_train, X_test, y_train, y_test = train_test_split(x_train_review, y_train_label, test_size=0.3, random_state=42)"
   ]
  },
  {
   "cell_type": "markdown",
   "id": "3595ce45",
   "metadata": {},
   "source": [
    "## Logistic Regression"
   ]
  },
  {
   "cell_type": "code",
   "execution_count": 16,
   "id": "7486ad6e",
   "metadata": {},
   "outputs": [
    {
     "name": "stdout",
     "output_type": "stream",
     "text": [
      "Cross Validation for Logistic Regression on TF-IDF\n"
     ]
    },
    {
     "data": {
      "text/plain": [
       "array([0.87418581, 0.88033602, 0.87793588])"
      ]
     },
     "execution_count": 16,
     "metadata": {},
     "output_type": "execute_result"
    }
   ],
   "source": [
    "# Logistic Regression \n",
    "model_lr = Pipeline([('tfidf', TfidfVectorizer()),\n",
    "                  ('clf', LogisticRegression()), ])\n",
    "model_lr = model_lr.fit(X_train, y_train)\n",
    "\n",
    "print(\"Cross Validation for Logistic Regression on TF-IDF\")\n",
    "cross_val_score(model_lr, X_train, y_train, cv=3)"
   ]
  },
  {
   "cell_type": "markdown",
   "id": "d8a26b15",
   "metadata": {},
   "source": [
    "## Support Vector Machine"
   ]
  },
  {
   "cell_type": "code",
   "execution_count": 17,
   "id": "20bfb6a6",
   "metadata": {},
   "outputs": [
    {
     "name": "stdout",
     "output_type": "stream",
     "text": [
      "Cross Validation for Support Vector Machine on TF-IDF\n"
     ]
    },
    {
     "data": {
      "text/plain": [
       "array([0.87829962, 0.87827876, 0.88033602])"
      ]
     },
     "execution_count": 17,
     "metadata": {},
     "output_type": "execute_result"
    }
   ],
   "source": [
    "# Support Vector Machine \n",
    "model_svm_tfidf = Pipeline([('tfidf', TfidfVectorizer()),\n",
    "                     ('clf', LinearSVC()), ])\n",
    "model_svm_tfidf = model_svm_tfidf.fit(X_train, y_train)\n",
    "\n",
    "print(\"Cross Validation for Support Vector Machine on TF-IDF\")\n",
    "cross_val_score(model_svm_tfidf, X_train, y_train, cv=3)"
   ]
  },
  {
   "cell_type": "markdown",
   "id": "68fd1914",
   "metadata": {},
   "source": [
    "## Naive Bayes "
   ]
  },
  {
   "cell_type": "code",
   "execution_count": 18,
   "id": "a66f9bae",
   "metadata": {},
   "outputs": [
    {
     "name": "stdout",
     "output_type": "stream",
     "text": [
      "Cross Validation for Naive Bayes on Bag of Words\n"
     ]
    },
    {
     "data": {
      "text/plain": [
       "array([0.8416181 , 0.85376307, 0.85222013])"
      ]
     },
     "execution_count": 18,
     "metadata": {},
     "output_type": "execute_result"
    }
   ],
   "source": [
    "# Naive Bayes with Bag of Words\n",
    "model_nb_bow = Pipeline([\n",
    "    ('bow', CountVectorizer()),\n",
    "    ('clf', MultinomialNB()),\n",
    "])\n",
    "\n",
    "# Fit the model\n",
    "model_nb_bow = model_nb_bow.fit(X_train, y_train)\n",
    "\n",
    "print(\"Cross Validation for Naive Bayes on Bag of Words\")\n",
    "cross_val_score(model_nb_bow, X_train, y_train, cv=3)"
   ]
  },
  {
   "cell_type": "markdown",
   "id": "aafa3a46",
   "metadata": {},
   "source": [
    "## LSTM"
   ]
  },
  {
   "cell_type": "code",
   "execution_count": 19,
   "id": "11fa995f",
   "metadata": {},
   "outputs": [],
   "source": [
    "# Encode the labels\n",
    "label_encoder = LabelEncoder()\n",
    "encoded_y_train = label_encoder.fit_transform(y_train)\n",
    "encoded_y_test = label_encoder.transform(y_test)"
   ]
  },
  {
   "cell_type": "code",
   "execution_count": 20,
   "id": "04e08006",
   "metadata": {},
   "outputs": [],
   "source": [
    "# Tokenize the text data\n",
    "max_words = 5000\n",
    "tokenizer = Tokenizer(num_words=max_words, split=' ')\n",
    "tokenizer.fit_on_texts(X_train)\n",
    "X_train_tokens = tokenizer.texts_to_sequences(X_train)\n",
    "X_test_tokens = tokenizer.texts_to_sequences(X_test)"
   ]
  },
  {
   "cell_type": "code",
   "execution_count": 21,
   "id": "e1402078",
   "metadata": {},
   "outputs": [],
   "source": [
    "# Pad sequences to ensure uniform length\n",
    "max_len = 200\n",
    "X_train_pad = pad_sequences(X_train_tokens, maxlen=max_len)\n",
    "X_test_pad = pad_sequences(X_test_tokens, maxlen=max_len)"
   ]
  },
  {
   "cell_type": "code",
   "execution_count": 22,
   "id": "89f0fd69",
   "metadata": {},
   "outputs": [
    {
     "name": "stdout",
     "output_type": "stream",
     "text": [
      "Epoch 1/5\n",
      "274/274 [==============================] - 15s 34ms/step - loss: 0.4135 - accuracy: 0.8093 - val_loss: 0.3340 - val_accuracy: 0.8707\n",
      "Epoch 2/5\n",
      "274/274 [==============================] - 8s 31ms/step - loss: 0.2586 - accuracy: 0.8994 - val_loss: 0.3059 - val_accuracy: 0.8752\n",
      "Epoch 3/5\n",
      "274/274 [==============================] - 8s 31ms/step - loss: 0.2082 - accuracy: 0.9202 - val_loss: 0.3265 - val_accuracy: 0.8699\n",
      "Epoch 4/5\n",
      "274/274 [==============================] - 8s 30ms/step - loss: 0.1751 - accuracy: 0.9337 - val_loss: 0.3490 - val_accuracy: 0.8637\n",
      "Epoch 5/5\n",
      "274/274 [==============================] - 8s 30ms/step - loss: 0.1453 - accuracy: 0.9461 - val_loss: 0.3785 - val_accuracy: 0.8604\n"
     ]
    },
    {
     "data": {
      "text/plain": [
       "<keras.callbacks.History at 0x2881aea2f40>"
      ]
     },
     "execution_count": 22,
     "metadata": {},
     "output_type": "execute_result"
    }
   ],
   "source": [
    "# Define the LSTM model\n",
    "embedding_dim = 100\n",
    "model_lstm = Sequential()\n",
    "model_lstm.add(Embedding(input_dim=max_words, output_dim=embedding_dim, input_length=max_len))\n",
    "model_lstm.add(SpatialDropout1D(0.2))\n",
    "model_lstm.add(LSTM(100, dropout=0.2))\n",
    "model_lstm.add(Dense(1, activation='sigmoid'))\n",
    "\n",
    "# Compile the model\n",
    "model_lstm.compile(loss='binary_crossentropy', optimizer='adam', metrics=['accuracy'])\n",
    "\n",
    "# Fit the model\n",
    "batch_size = 64\n",
    "epochs = 5\n",
    "model_lstm.fit(X_train_pad, encoded_y_train, batch_size=batch_size, epochs=epochs, validation_data=(X_test_pad, encoded_y_test))"
   ]
  },
  {
   "cell_type": "code",
   "execution_count": 23,
   "id": "51cb0b31",
   "metadata": {},
   "outputs": [
    {
     "name": "stdout",
     "output_type": "stream",
     "text": [
      "235/235 [==============================] - 2s 9ms/step - loss: 0.3785 - accuracy: 0.8604\n",
      "Test Accuracy: 0.8604000210762024\n"
     ]
    }
   ],
   "source": [
    "# Evaluate the model\n",
    "loss, accuracy = model_lstm.evaluate(X_test_pad, encoded_y_test, verbose=1)\n",
    "print(\"Test Accuracy:\", accuracy)"
   ]
  },
  {
   "cell_type": "code",
   "execution_count": 24,
   "id": "962fc990",
   "metadata": {},
   "outputs": [],
   "source": [
    "def model_training(training_model):\n",
    "    if training_model == 'LR':\n",
    "        print(\"Training Logistic regression model using TF-IDF\")\n",
    "        lrbow = Pipeline([('tfidf', TfidfVectorizer()), ('clf', LogisticRegression()), ])\n",
    "        return lrbow\n",
    "\n",
    "    elif training_model == 'SVM':\n",
    "        print(\"Training SVM model using TF-IDF\")\n",
    "        svmbow = Pipeline([('tfidf', TfidfVectorizer()), ('clf', LinearSVC()), ])\n",
    "        return svmbow\n",
    "\n",
    "    elif training_model == 'NB':\n",
    "        print(\"Training NB model using BOW\")\n",
    "        nbbow = Pipeline([('bow', CountVectorizer()), ('clf', MultinomialNB()), ])\n",
    "        return nbbow\n",
    "    \n",
    "def model_training_lstm():\n",
    "    print(\"Training LSTM model\")\n",
    "    model = Sequential()\n",
    "    model.add(Embedding(input_dim=5000, output_dim=100, input_length=200))\n",
    "    model.add(SpatialDropout1D(0.2))\n",
    "    model.add(LSTM(units=100, dropout=0.2))\n",
    "    model.add(Dense(1, activation='sigmoid'))\n",
    "    model.compile(loss='binary_crossentropy', optimizer='adam', metrics=['accuracy'])\n",
    "    return model\n",
    "\n",
    "def model_fitting_mix():\n",
    "    training_models = ['LR', 'SVM', 'NB', 'LSTM']\n",
    "    for model_name in training_models:\n",
    "        if model_name == 'LSTM':\n",
    "            batch_size = 64\n",
    "            epochs = 5\n",
    "            lstm_model = model_training_lstm()\n",
    "            lstm_model.fit(X_train_pad, encoded_y_train, batch_size=batch_size, epochs=epochs, validation_data=(X_test_pad, encoded_y_test))\n",
    "            lstm_scores = lstm_model.evaluate(X_test_pad, encoded_y_test, verbose=0)\n",
    "            \n",
    "            y_pred = lstm_model.predict(X_test_pad)\n",
    "            y_pred_binary = (y_pred > 0.5).astype('int32')  # Convert probabilities to binary predictions\n",
    "\n",
    "            precision = precision_score(encoded_y_test, y_pred_binary)\n",
    "            recall = recall_score(encoded_y_test, y_pred_binary)\n",
    "            f1 = f1_score(encoded_y_test, y_pred_binary)\n",
    "\n",
    "            print(f\"Metrics for model 'LSTM':\")\n",
    "            print(f\"Accuracy on testing dataset: {lstm_scores[1]:.6f}\")\n",
    "            print(f\"Precision on testing dataset: {precision:.6f}\")\n",
    "            print(f\"Recall on testing dataset: {recall:.6f}\")\n",
    "            print(f\"F1 Score on testing dataset: {f1:.6f}\")\n",
    "        else:\n",
    "            model = model_training(model_name).fit(X_train, y_train)\n",
    "            predicted = model.predict(X_test)\n",
    "\n",
    "            # Calculate metrics\n",
    "            accuracy = accuracy_score(y_test, predicted)\n",
    "            precision = precision_score(y_test, predicted, average='weighted')\n",
    "            recall = recall_score(y_test, predicted, average='weighted')\n",
    "            f1 = f1_score(y_test, predicted, average='weighted')\n",
    "            scores = cross_val_score(model, X_train, y_train, cv=3)\n",
    "\n",
    "            # Print metrics\n",
    "            print(f\"Metrics for model '{model_name}':\")\n",
    "            print(f\"Accuracy on testing dataset: {accuracy:.6f}\")\n",
    "            print(f\"Precision on testing dataset: {precision:.6f}\")\n",
    "            print(f\"Recall on testing dataset: {recall:.6f}\")\n",
    "            print(f\"F1 Score on testing dataset: {f1:.6f}\")\n",
    "            print(f\"Mean Accuracy on training dataset (cross-validation): {scores.mean():.6f}\")\n",
    "        print(\"\\n\")"
   ]
  },
  {
   "cell_type": "code",
   "execution_count": 25,
   "id": "4c0ae765",
   "metadata": {},
   "outputs": [
    {
     "name": "stdout",
     "output_type": "stream",
     "text": [
      "Training Logistic regression model using TF-IDF\n",
      "Metrics for model 'LR':\n",
      "Accuracy on testing dataset: 0.885467\n",
      "Precision on testing dataset: 0.885589\n",
      "Recall on testing dataset: 0.885467\n",
      "F1 Score on testing dataset: 0.885448\n",
      "Mean Accuracy on training dataset (cross-validation): 0.877486\n",
      "\n",
      "\n",
      "Training SVM model using TF-IDF\n",
      "Metrics for model 'SVM':\n",
      "Accuracy on testing dataset: 0.879067\n",
      "Precision on testing dataset: 0.879069\n",
      "Recall on testing dataset: 0.879067\n",
      "F1 Score on testing dataset: 0.879064\n",
      "Mean Accuracy on training dataset (cross-validation): 0.878971\n",
      "\n",
      "\n",
      "Training NB model using BOW\n",
      "Metrics for model 'NB':\n",
      "Accuracy on testing dataset: 0.855867\n",
      "Precision on testing dataset: 0.856675\n",
      "Recall on testing dataset: 0.855867\n",
      "F1 Score on testing dataset: 0.855815\n",
      "Mean Accuracy on training dataset (cross-validation): 0.849200\n",
      "\n",
      "\n",
      "Training LSTM model\n",
      "Epoch 1/5\n",
      "274/274 [==============================] - 14s 41ms/step - loss: 0.4135 - accuracy: 0.8045 - val_loss: 0.3036 - val_accuracy: 0.8772\n",
      "Epoch 2/5\n",
      "274/274 [==============================] - 11s 39ms/step - loss: 0.2533 - accuracy: 0.9003 - val_loss: 0.3145 - val_accuracy: 0.8727\n",
      "Epoch 3/5\n",
      "274/274 [==============================] - 11s 40ms/step - loss: 0.2043 - accuracy: 0.9226 - val_loss: 0.3544 - val_accuracy: 0.8643\n",
      "Epoch 4/5\n",
      "274/274 [==============================] - 10s 36ms/step - loss: 0.1741 - accuracy: 0.9359 - val_loss: 0.3662 - val_accuracy: 0.8620\n",
      "Epoch 5/5\n",
      "274/274 [==============================] - 10s 36ms/step - loss: 0.1487 - accuracy: 0.9455 - val_loss: 0.3802 - val_accuracy: 0.8585\n",
      "235/235 [==============================] - 2s 7ms/step\n",
      "Metrics for model 'LSTM':\n",
      "Accuracy on testing dataset: 0.858533\n",
      "Precision on testing dataset: 0.841761\n",
      "Recall on testing dataset: 0.885654\n",
      "F1 Score on testing dataset: 0.863150\n",
      "\n",
      "\n"
     ]
    }
   ],
   "source": [
    "model_fitting_mix()"
   ]
  },
  {
   "cell_type": "markdown",
   "id": "f9e28245",
   "metadata": {},
   "source": [
    "# Model Opitimization"
   ]
  },
  {
   "cell_type": "code",
   "execution_count": 26,
   "id": "1364cc78",
   "metadata": {},
   "outputs": [],
   "source": [
    "# Define the parameter grid to search\n",
    "param_grid = {\n",
    "    'tfidf__max_features': [1000, 5000, 10000],  # Adjust the number of features\n",
    "    'clf__C': [0.1, 1, 10],  # Regularization parameter for model\n",
    "}"
   ]
  },
  {
   "cell_type": "code",
   "execution_count": 22,
   "id": "55117076",
   "metadata": {},
   "outputs": [
    {
     "name": "stdout",
     "output_type": "stream",
     "text": [
      "Hyperparameter tuning using grid search for LR model\n",
      "Best Parameters:  {'clf__C': 1, 'tfidf__max_features': 10000}\n",
      "Mean Accuracy on training dataset (cross-validation):  0.8770858897995112\n",
      "Accuracy on testing dataset: 0.8838666666666667\n"
     ]
    }
   ],
   "source": [
    "# Logistic Regression with TfidfVectorizer\n",
    "model_lr_tuned = Pipeline([\n",
    "    ('tfidf', TfidfVectorizer()),\n",
    "    ('clf', LogisticRegression()),\n",
    "])\n",
    "\n",
    "# Create GridSearchCV object\n",
    "grid_search_lr = GridSearchCV(model_lr_tuned, param_grid, cv=3, scoring='accuracy')\n",
    "\n",
    "# Fit the grid search to the data\n",
    "grid_search_lr.fit(X_train, y_train)\n",
    "\n",
    "# Print the best parameters and their corresponding accuracy\n",
    "print(\"Hyperparameter tuning using grid search for LR model\")\n",
    "print(\"Best Parameters: \", grid_search_lr.best_params_)\n",
    "print(\"Mean Accuracy on training dataset (cross-validation): \", grid_search_lr.best_score_)\n",
    "print(\"Accuracy on testing dataset:\", grid_search_lr.score(X_test, y_test))"
   ]
  },
  {
   "cell_type": "code",
   "execution_count": 23,
   "id": "b39e3625",
   "metadata": {},
   "outputs": [
    {
     "name": "stdout",
     "output_type": "stream",
     "text": [
      "Hyperparameter tuning using grid search for SVM model\n",
      "Best Parameters (SVM):  {'clf__C': 0.1, 'tfidf__max_features': 10000}\n",
      "Mean Accuracy on training dataset (cross-validation):  0.8779430620483275\n",
      "Accuracy on testing dataset:  0.8841333333333333\n"
     ]
    }
   ],
   "source": [
    "# SVM with TfidfVectorizer\n",
    "model_svm_tuned = Pipeline([\n",
    "    ('tfidf', TfidfVectorizer()),\n",
    "    ('clf', LinearSVC()),\n",
    "])\n",
    "\n",
    "# Create GridSearchCV object\n",
    "grid_search_svm = GridSearchCV(model_svm_tuned, param_grid, cv=3, scoring='accuracy')\n",
    "\n",
    "# Fit the grid search to the data\n",
    "grid_search_svm.fit(X_train, y_train)\n",
    "\n",
    "# Print the best parameters and their corresponding accuracy\n",
    "print(\"Hyperparameter tuning using grid search for SVM model\")\n",
    "print(\"Best Parameters (SVM): \", grid_search_svm.best_params_)\n",
    "print(\"Mean Accuracy on training dataset (cross-validation): \", grid_search_svm.best_score_)\n",
    "print(\"Accuracy on testing dataset: \", grid_search_svm.score(X_test, y_test))"
   ]
  },
  {
   "cell_type": "code",
   "execution_count": 24,
   "id": "691e2382",
   "metadata": {},
   "outputs": [
    {
     "name": "stdout",
     "output_type": "stream",
     "text": [
      "Hyperparameter tuning using grid search for NB  model\n",
      "Best Parameters (Naive Bayes):  {'clf__alpha': 1.0, 'tfidf__max_features': 10000}\n",
      "Mean Accuracy on training dataset (cross-validation):  0.8527430618837655\n",
      "Accuracy on testing dataset:  0.8538666666666667\n"
     ]
    }
   ],
   "source": [
    "param_grid_nb = {\n",
    "    'tfidf__max_features': [1000, 5000, 10000],\n",
    "    'clf__alpha': [0.1, 0.5, 1.0],\n",
    "}\n",
    "\n",
    "# Naive Bayes with Bag of Words\n",
    "model_nb_tuned = Pipeline([\n",
    "    ('bow', CountVectorizer()),\n",
    "    ('clf', MultinomialNB()),\n",
    "])\n",
    "\n",
    "# Create GridSearchCV object\n",
    "grid_search_nb = GridSearchCV(model_nb_tuned, param_grid_nb, cv=3, scoring='accuracy')\n",
    "\n",
    "# Fit the grid search to the data\n",
    "grid_search_nb.fit(X_train, y_train)\n",
    "\n",
    "# Print the best parameters and their corresponding accuracy\n",
    "print(\"Hyperparameter tuning using grid search for NB  model\")\n",
    "print(\"Best Parameters (Naive Bayes): \", grid_search_nb.best_params_)\n",
    "print(\"Mean Accuracy on training dataset (cross-validation): \", grid_search_nb.best_score_)\n",
    "print(\"Accuracy on testing dataset: \", grid_search_nb.score(X_test, y_test))"
   ]
  },
  {
   "cell_type": "code",
   "execution_count": 47,
   "id": "7e185401",
   "metadata": {},
   "outputs": [
    {
     "name": "stdout",
     "output_type": "stream",
     "text": [
      "183/183 [==============================] - 2s 7ms/step\n",
      "183/183 [==============================] - 2s 7ms/step\n",
      "183/183 [==============================] - 2s 10ms/step\n",
      "183/183 [==============================] - 2s 7ms/step\n",
      "183/183 [==============================] - 2s 7ms/step\n",
      "183/183 [==============================] - 2s 7ms/step\n",
      "183/183 [==============================] - 2s 6ms/step\n",
      "183/183 [==============================] - 2s 6ms/step\n",
      "183/183 [==============================] - 1s 6ms/step\n",
      "183/183 [==============================] - 2s 6ms/step\n",
      "183/183 [==============================] - 2s 6ms/step\n",
      "183/183 [==============================] - 2s 6ms/step\n",
      "183/183 [==============================] - 2s 8ms/step\n",
      "183/183 [==============================] - 2s 8ms/step\n",
      "183/183 [==============================] - 2s 8ms/step\n",
      "183/183 [==============================] - 2s 7ms/step\n",
      "183/183 [==============================] - 2s 7ms/step\n",
      "183/183 [==============================] - 2s 7ms/step\n",
      "183/183 [==============================] - 2s 8ms/step\n",
      "183/183 [==============================] - 2s 8ms/step\n",
      "183/183 [==============================] - 2s 8ms/step\n",
      "183/183 [==============================] - 2s 8ms/step\n",
      "183/183 [==============================] - 2s 7ms/step\n",
      "183/183 [==============================] - 2s 7ms/step\n",
      "183/183 [==============================] - 2s 8ms/step\n",
      "183/183 [==============================] - 2s 8ms/step\n",
      "183/183 [==============================] - 2s 8ms/step\n",
      "183/183 [==============================] - 2s 7ms/step\n",
      "183/183 [==============================] - 2s 7ms/step\n",
      "183/183 [==============================] - 2s 6ms/step\n",
      "Hyperparameter tuning using randomized search for LSTM model\n",
      "Best Parameters (LSTM):  {'units': 150, 'epochs': 5, 'dropout_rate': 0.4, 'batch_size': 64}\n",
      "Mean Accuracy on training dataset (cross-validation):  0.857714412124789\n",
      "235/235 [==============================] - 2s 8ms/step\n",
      "Accuracy on testing dataset:  0.8645333333333334\n"
     ]
    }
   ],
   "source": [
    "# Define a function to create the LSTM model\n",
    "def create_lstm_model(units=100, dropout_rate=0.2):\n",
    "  model = Sequential()\n",
    "  model.add(Embedding(input_dim=max_words, output_dim=embedding_dim, input_length=max_len))\n",
    "  model.add(LSTM(units, dropout=dropout_rate))\n",
    "  model.add(Dense(1, activation='sigmoid'))\n",
    "  model.compile(loss='binary_crossentropy', optimizer='adam', metrics=['accuracy'])\n",
    "  return model\n",
    "\n",
    "# Create a KerasClassifier\n",
    "lstm_model = KerasClassifier(build_fn=create_lstm_model, verbose=0)\n",
    "\n",
    "# Define the parameter grid\n",
    "param_grid_lstm = {\n",
    "  'units': [50, 100, 150],\n",
    "  'dropout_rate': [0.2, 0.3, 0.4],\n",
    "  'epochs': [5, 10, 15],\n",
    "  'batch_size': [32, 64, 128]\n",
    "}\n",
    "\n",
    "# Perform RandomizedSearchCV\n",
    "random_search_lstm = RandomizedSearchCV(estimator=lstm_model, param_distributions=param_grid_lstm, cv=3, scoring='accuracy', n_iter=10)\n",
    "random_search_lstm.fit(X_train_pad, encoded_y_train)\n",
    "\n",
    "# Print the best parameters and their corresponding accuracy\n",
    "print(\"Hyperparameter tuning using randomized search for LSTM model\")\n",
    "print(\"Best Parameters (LSTM): \", random_search_lstm.best_params_)\n",
    "print(\"Mean Accuracy on training dataset (cross-validation): \", random_search_lstm.best_score_)\n",
    "print(\"Accuracy on testing dataset: \", random_search_lstm.score(X_test_pad, encoded_y_test))"
   ]
  },
  {
   "cell_type": "markdown",
   "id": "9d2fa059",
   "metadata": {},
   "source": [
    "# Prediction (Deploy)"
   ]
  },
  {
   "cell_type": "code",
   "execution_count": 52,
   "id": "91bef546",
   "metadata": {},
   "outputs": [
    {
     "name": "stdout",
     "output_type": "stream",
     "text": [
      "1/1 [==============================] - 0s 41ms/step\n",
      "Logistic Regression (TF-IDF): Prediction: 0.447, Label: Neutral\n",
      "Support Vector Machine (TF-IDF): Prediction: 0.460, Label: Neutral\n",
      "Naive Bayes (Bag of Words): Prediction: 0.335, Label: Negative\n",
      "LSTM Model: Prediction: 0.258, Label: Negative\n"
     ]
    }
   ],
   "source": [
    "def map_to_label(prediction, threshold_low=0.4, threshold_high=0.7):\n",
    "    if prediction >= threshold_high:\n",
    "        return 'Positive'\n",
    "    elif prediction <= threshold_low:\n",
    "        return 'Negative'\n",
    "    else:\n",
    "        return 'Neutral'\n",
    "\n",
    "def predict_sentiment_all_models(user_review):\n",
    "    # Preprocess the review\n",
    "    preprocessed_review = dataprocessing(user_review)\n",
    "\n",
    "    # Tokenize the preprocessed review\n",
    "    tokenizer = Tokenizer(num_words=5000)\n",
    "    tokenizer.fit_on_texts([preprocessed_review])\n",
    "    sequences = tokenizer.texts_to_sequences([preprocessed_review])\n",
    "\n",
    "    # Pad sequences to ensure consistent length\n",
    "    max_sequence_length = 200\n",
    "    padded_sequences = pad_sequences(sequences, maxlen=max_sequence_length)\n",
    "\n",
    "    # Predict sentiment using LSTM model\n",
    "    lstm_predicted_sentiment = model_lstm.predict(padded_sequences)[0]\n",
    "    lstm_label = map_to_label(lstm_predicted_sentiment)\n",
    "\n",
    "    # Logistic Regression with TF-IDF\n",
    "    lr_tfidf_prediction = model_lr.predict_proba([user_review])[0][1]\n",
    "    lr_tfidf_label = map_to_label(lr_tfidf_prediction)\n",
    "\n",
    "    # Support Vector Machine with TF-IDF\n",
    "    svm_tfidf_prediction = model_svm_tfidf.decision_function([user_review])[0]\n",
    "    svm_tfidf_prediction = 1 / (1 + np.exp(-svm_tfidf_prediction))\n",
    "    svm_tfidf_label = map_to_label(svm_tfidf_prediction)\n",
    "\n",
    "    # Naive Bayes with Bag of Words\n",
    "    nb_bow_prediction = model_nb_bow.predict_proba([user_review])[0][1]\n",
    "    nb_bow_label = map_to_label(nb_bow_prediction)\n",
    "\n",
    "    return {\n",
    "        'Logistic Regression (TF-IDF)': {'score': '{:.3f}'.format(lr_tfidf_prediction), 'label': lr_tfidf_label},\n",
    "        'Support Vector Machine (TF-IDF)': {'score': '{:.3f}'.format(svm_tfidf_prediction), 'label': svm_tfidf_label},\n",
    "        'Naive Bayes (Bag of Words)': {'score': '{:.3f}'.format(nb_bow_prediction), 'label': nb_bow_label},\n",
    "        'LSTM Model': {'score': '{:.3f}'.format(lstm_predicted_sentiment[0]), 'label': lstm_label}\n",
    "    }\n",
    "\n",
    "# Example usage\n",
    "user_review = \"\"\"\n",
    "This is a normal movie!\n",
    "\"\"\"\n",
    "predictions = predict_sentiment_all_models(user_review)\n",
    "\n",
    "# Print predictions for each model\n",
    "for model_name, prediction_info in predictions.items():\n",
    "    print(f\"{model_name}: Prediction: {prediction_info['score']}, Label: {prediction_info['label']}\")"
   ]
  },
  {
   "cell_type": "code",
   "execution_count": null,
   "id": "e050954d",
   "metadata": {},
   "outputs": [],
   "source": []
  }
 ],
 "metadata": {
  "kernelspec": {
   "display_name": "Python 3 (ipykernel)",
   "language": "python",
   "name": "python3"
  },
  "language_info": {
   "codemirror_mode": {
    "name": "ipython",
    "version": 3
   },
   "file_extension": ".py",
   "mimetype": "text/x-python",
   "name": "python",
   "nbconvert_exporter": "python",
   "pygments_lexer": "ipython3",
   "version": "3.9.7"
  },
  "toc": {
   "base_numbering": 1,
   "nav_menu": {},
   "number_sections": true,
   "sideBar": true,
   "skip_h1_title": false,
   "title_cell": "Table of Contents",
   "title_sidebar": "Contents",
   "toc_cell": false,
   "toc_position": {},
   "toc_section_display": true,
   "toc_window_display": false
  }
 },
 "nbformat": 4,
 "nbformat_minor": 5
}
