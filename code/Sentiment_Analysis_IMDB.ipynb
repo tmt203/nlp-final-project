{
 "cells": [
  {
   "cell_type": "code",
   "execution_count": 36,
   "id": "e5a33877",
   "metadata": {},
   "outputs": [
    {
     "name": "stderr",
     "output_type": "stream",
     "text": [
      "[nltk_data] Downloading package stopwords to\n",
      "[nltk_data]     C:\\Users\\ACER\\AppData\\Roaming\\nltk_data...\n",
      "[nltk_data]   Package stopwords is already up-to-date!\n",
      "[nltk_data] Downloading package wordnet to\n",
      "[nltk_data]     C:\\Users\\ACER\\AppData\\Roaming\\nltk_data...\n",
      "[nltk_data]   Package wordnet is already up-to-date!\n",
      "[nltk_data] Downloading package punkt to\n",
      "[nltk_data]     C:\\Users\\ACER\\AppData\\Roaming\\nltk_data...\n",
      "[nltk_data]   Package punkt is already up-to-date!\n"
     ]
    }
   ],
   "source": [
    "# Import libs\n",
    "import warnings\n",
    "import numpy as np\n",
    "import pandas as pd\n",
    "from nltk.stem import WordNetLemmatizer\n",
    "from nltk.tokenize import word_tokenize\n",
    "from sklearn.linear_model import LogisticRegression\n",
    "from sklearn.model_selection import cross_val_score\n",
    "from sklearn.naive_bayes import MultinomialNB\n",
    "from sklearn.pipeline import Pipeline\n",
    "from sklearn.pipeline import make_pipeline\n",
    "from sklearn.svm import LinearSVC\n",
    "\n",
    "warnings.filterwarnings(action=\"ignore\")\n",
    "import os\n",
    "import re\n",
    "import nltk\n",
    "import sys\n",
    "\n",
    "nltk.download('stopwords')\n",
    "nltk.download('wordnet')\n",
    "nltk.download('punkt')\n",
    "\n",
    "from sklearn.model_selection import train_test_split\n",
    "from sklearn.feature_extraction.text import CountVectorizer\n",
    "from sklearn.model_selection import GridSearchCV\n",
    "\n",
    "from gensim.parsing.preprocessing import remove_stopwords\n",
    "from gensim.parsing.preprocessing import strip_punctuation\n",
    "from gensim.parsing.preprocessing import strip_multiple_whitespaces\n",
    "import en_core_web_sm\n",
    "\n",
    "en_core_web_sm.load()\n",
    "from nltk.corpus import stopwords"
   ]
  },
  {
   "cell_type": "markdown",
   "id": "70f4b7e9",
   "metadata": {},
   "source": [
    "# Load Dataset"
   ]
  },
  {
   "cell_type": "code",
   "execution_count": 6,
   "id": "c6ba87ed",
   "metadata": {},
   "outputs": [
    {
     "data": {
      "text/plain": [
       "'utf-8'"
      ]
     },
     "execution_count": 6,
     "metadata": {},
     "output_type": "execute_result"
    }
   ],
   "source": [
    "# Data file path\n",
    "PATH = \"E:\\\\NLP\\\\Final\\\\aclImdb\"\n",
    "sys.getdefaultencoding()"
   ]
  },
  {
   "cell_type": "code",
   "execution_count": 7,
   "id": "9cf67214",
   "metadata": {},
   "outputs": [],
   "source": [
    "# Separating train files to positive and negative\n",
    "posFiles = [x for x in os.listdir(PATH + \"/train/pos/\") if x.endswith(\".txt\")]\n",
    "negFiles = [x for x in os.listdir(PATH + \"/train/neg/\") if x.endswith(\".txt\")]"
   ]
  },
  {
   "cell_type": "code",
   "execution_count": 10,
   "id": "76d04a2e",
   "metadata": {},
   "outputs": [],
   "source": [
    "# Separating test files to positive and negative\n",
    "test_pos_Files = [x for x in os.listdir(PATH + \"/test/pos/\") if x.endswith(\".txt\")]\n",
    "test_neg_Files = [x for x in os.listdir(PATH + \"/test/neg/\") if x.endswith(\".txt\")]"
   ]
  },
  {
   "cell_type": "code",
   "execution_count": 8,
   "id": "aaa55841",
   "metadata": {},
   "outputs": [],
   "source": [
    "P_train = []\n",
    "N_train = []\n",
    "\n",
    "for nfile in negFiles:\n",
    "    with open(PATH + \"/train/neg/\" + nfile, encoding=\"utf-8\") as f:\n",
    "        N_train.append(f.read())\n",
    "        \n",
    "for pfile in posFiles:\n",
    "    with open(PATH + \"/train/pos/\" + pfile, encoding=\"utf-8\") as f:\n",
    "        P_train.append(f.read())"
   ]
  },
  {
   "cell_type": "code",
   "execution_count": 11,
   "id": "e82fc72b",
   "metadata": {},
   "outputs": [],
   "source": [
    "P_test = []\n",
    "N_test = []\n",
    "\n",
    "for ptestfile in test_pos_Files:\n",
    "    with open(PATH + \"/test/pos/\" + ptestfile, encoding=\"utf-8\") as f:\n",
    "        P_test.append(f.read())\n",
    "        \n",
    "for ntestfile in test_neg_Files:\n",
    "    with open(PATH + \"/test/neg/\" + ntestfile, encoding=\"utf-8\") as f:\n",
    "        N_test.append(f.read())"
   ]
  },
  {
   "cell_type": "code",
   "execution_count": 12,
   "id": "7c8fa410",
   "metadata": {},
   "outputs": [],
   "source": [
    "reviews_train = pd.concat([\n",
    "    pd.DataFrame({\"review\": P_train, \"Label\": 1, \"file\": posFiles}),\n",
    "    pd.DataFrame({\"review\": N_train, \"Label\": -1, \"file\": negFiles})\n",
    "], ignore_index=True).sample(frac=1, random_state=1)\n",
    "\n",
    "reviews_test = pd.concat([\n",
    "    pd.DataFrame({\"review\": P_test, \"Label\": 1, \"file\": test_pos_Files}),\n",
    "    pd.DataFrame({\"review\": N_test, \"Label\": -1, \"file\": test_neg_Files})\n",
    "], ignore_index=True).sample(frac=1, random_state=1)"
   ]
  },
  {
   "cell_type": "code",
   "execution_count": 13,
   "id": "74ce3a3b",
   "metadata": {},
   "outputs": [
    {
     "data": {
      "text/html": [
       "<div>\n",
       "<style scoped>\n",
       "    .dataframe tbody tr th:only-of-type {\n",
       "        vertical-align: middle;\n",
       "    }\n",
       "\n",
       "    .dataframe tbody tr th {\n",
       "        vertical-align: top;\n",
       "    }\n",
       "\n",
       "    .dataframe thead th {\n",
       "        text-align: right;\n",
       "    }\n",
       "</style>\n",
       "<table border=\"1\" class=\"dataframe\">\n",
       "  <thead>\n",
       "    <tr style=\"text-align: right;\">\n",
       "      <th></th>\n",
       "      <th>review</th>\n",
       "      <th>Label</th>\n",
       "      <th>file</th>\n",
       "    </tr>\n",
       "  </thead>\n",
       "  <tbody>\n",
       "    <tr>\n",
       "      <th>21492</th>\n",
       "      <td>I have copy of this on VHS, I think they (The ...</td>\n",
       "      <td>-1</td>\n",
       "      <td>6844_1.txt</td>\n",
       "    </tr>\n",
       "    <tr>\n",
       "      <th>9488</th>\n",
       "      <td>After several extremely well ratings to the po...</td>\n",
       "      <td>1</td>\n",
       "      <td>7290_10.txt</td>\n",
       "    </tr>\n",
       "    <tr>\n",
       "      <th>16933</th>\n",
       "      <td>I still don't know why I forced myself to sit ...</td>\n",
       "      <td>-1</td>\n",
       "      <td>2740_1.txt</td>\n",
       "    </tr>\n",
       "    <tr>\n",
       "      <th>12604</th>\n",
       "      <td>Mt little sister and I are self-proclaimed hor...</td>\n",
       "      <td>-1</td>\n",
       "      <td>10094_1.txt</td>\n",
       "    </tr>\n",
       "    <tr>\n",
       "      <th>8222</th>\n",
       "      <td>I have personally seen many Disney movies in m...</td>\n",
       "      <td>1</td>\n",
       "      <td>6150_7.txt</td>\n",
       "    </tr>\n",
       "    <tr>\n",
       "      <th>...</th>\n",
       "      <td>...</td>\n",
       "      <td>...</td>\n",
       "      <td>...</td>\n",
       "    </tr>\n",
       "    <tr>\n",
       "      <th>10955</th>\n",
       "      <td>Diane Keaton gave an outstanding performance i...</td>\n",
       "      <td>1</td>\n",
       "      <td>8610_10.txt</td>\n",
       "    </tr>\n",
       "    <tr>\n",
       "      <th>17289</th>\n",
       "      <td>This has to be creepiest, most twisted holiday...</td>\n",
       "      <td>-1</td>\n",
       "      <td>3060_1.txt</td>\n",
       "    </tr>\n",
       "    <tr>\n",
       "      <th>5192</th>\n",
       "      <td>Do not expect a depiction of the \"truth\". Howe...</td>\n",
       "      <td>1</td>\n",
       "      <td>3423_7.txt</td>\n",
       "    </tr>\n",
       "    <tr>\n",
       "      <th>12172</th>\n",
       "      <td>The League of Gentlemen is one of the funniest...</td>\n",
       "      <td>1</td>\n",
       "      <td>9706_10.txt</td>\n",
       "    </tr>\n",
       "    <tr>\n",
       "      <th>235</th>\n",
       "      <td>Narratives  whether written, visual or poetic...</td>\n",
       "      <td>1</td>\n",
       "      <td>10211_7.txt</td>\n",
       "    </tr>\n",
       "  </tbody>\n",
       "</table>\n",
       "<p>25000 rows × 3 columns</p>\n",
       "</div>"
      ],
      "text/plain": [
       "                                                  review  Label         file\n",
       "21492  I have copy of this on VHS, I think they (The ...     -1   6844_1.txt\n",
       "9488   After several extremely well ratings to the po...      1  7290_10.txt\n",
       "16933  I still don't know why I forced myself to sit ...     -1   2740_1.txt\n",
       "12604  Mt little sister and I are self-proclaimed hor...     -1  10094_1.txt\n",
       "8222   I have personally seen many Disney movies in m...      1   6150_7.txt\n",
       "...                                                  ...    ...          ...\n",
       "10955  Diane Keaton gave an outstanding performance i...      1  8610_10.txt\n",
       "17289  This has to be creepiest, most twisted holiday...     -1   3060_1.txt\n",
       "5192   Do not expect a depiction of the \"truth\". Howe...      1   3423_7.txt\n",
       "12172  The League of Gentlemen is one of the funniest...      1  9706_10.txt\n",
       "235    Narratives  whether written, visual or poetic...      1  10211_7.txt\n",
       "\n",
       "[25000 rows x 3 columns]"
      ]
     },
     "execution_count": 13,
     "metadata": {},
     "output_type": "execute_result"
    }
   ],
   "source": [
    "reviews_train"
   ]
  },
  {
   "cell_type": "code",
   "execution_count": 16,
   "id": "a2be63e0",
   "metadata": {},
   "outputs": [
    {
     "data": {
      "text/html": [
       "<div>\n",
       "<style scoped>\n",
       "    .dataframe tbody tr th:only-of-type {\n",
       "        vertical-align: middle;\n",
       "    }\n",
       "\n",
       "    .dataframe tbody tr th {\n",
       "        vertical-align: top;\n",
       "    }\n",
       "\n",
       "    .dataframe thead th {\n",
       "        text-align: right;\n",
       "    }\n",
       "</style>\n",
       "<table border=\"1\" class=\"dataframe\">\n",
       "  <thead>\n",
       "    <tr style=\"text-align: right;\">\n",
       "      <th></th>\n",
       "      <th>review</th>\n",
       "      <th>Label</th>\n",
       "      <th>file</th>\n",
       "    </tr>\n",
       "  </thead>\n",
       "  <tbody>\n",
       "    <tr>\n",
       "      <th>21492</th>\n",
       "      <td>A movie theater with a bad history of past gru...</td>\n",
       "      <td>-1</td>\n",
       "      <td>6844_2.txt</td>\n",
       "    </tr>\n",
       "    <tr>\n",
       "      <th>9488</th>\n",
       "      <td>\"Here On Earth\" is a surprising beautiful roma...</td>\n",
       "      <td>1</td>\n",
       "      <td>7290_10.txt</td>\n",
       "    </tr>\n",
       "    <tr>\n",
       "      <th>16933</th>\n",
       "      <td>I just watched Descent. Gawds what an awful mo...</td>\n",
       "      <td>-1</td>\n",
       "      <td>2740_3.txt</td>\n",
       "    </tr>\n",
       "    <tr>\n",
       "      <th>12604</th>\n",
       "      <td>In a nutshell the movie is about a gang war in...</td>\n",
       "      <td>-1</td>\n",
       "      <td>10094_4.txt</td>\n",
       "    </tr>\n",
       "    <tr>\n",
       "      <th>8222</th>\n",
       "      <td>Instead of watching the recycled history of \"P...</td>\n",
       "      <td>1</td>\n",
       "      <td>6150_7.txt</td>\n",
       "    </tr>\n",
       "    <tr>\n",
       "      <th>...</th>\n",
       "      <td>...</td>\n",
       "      <td>...</td>\n",
       "      <td>...</td>\n",
       "    </tr>\n",
       "    <tr>\n",
       "      <th>10955</th>\n",
       "      <td>This movie is a fascinating drama about the Ma...</td>\n",
       "      <td>1</td>\n",
       "      <td>8610_8.txt</td>\n",
       "    </tr>\n",
       "    <tr>\n",
       "      <th>17289</th>\n",
       "      <td>It's too kind to call this a \"fictionalized\" a...</td>\n",
       "      <td>-1</td>\n",
       "      <td>3060_3.txt</td>\n",
       "    </tr>\n",
       "    <tr>\n",
       "      <th>5192</th>\n",
       "      <td>I was unsure of this movie before renting and ...</td>\n",
       "      <td>1</td>\n",
       "      <td>3423_9.txt</td>\n",
       "    </tr>\n",
       "    <tr>\n",
       "      <th>12172</th>\n",
       "      <td>Just got out of an advance screening, and wow ...</td>\n",
       "      <td>1</td>\n",
       "      <td>9706_7.txt</td>\n",
       "    </tr>\n",
       "    <tr>\n",
       "      <th>235</th>\n",
       "      <td>I doubt if the real story of the development o...</td>\n",
       "      <td>1</td>\n",
       "      <td>10211_8.txt</td>\n",
       "    </tr>\n",
       "  </tbody>\n",
       "</table>\n",
       "<p>25000 rows × 3 columns</p>\n",
       "</div>"
      ],
      "text/plain": [
       "                                                  review  Label         file\n",
       "21492  A movie theater with a bad history of past gru...     -1   6844_2.txt\n",
       "9488   \"Here On Earth\" is a surprising beautiful roma...      1  7290_10.txt\n",
       "16933  I just watched Descent. Gawds what an awful mo...     -1   2740_3.txt\n",
       "12604  In a nutshell the movie is about a gang war in...     -1  10094_4.txt\n",
       "8222   Instead of watching the recycled history of \"P...      1   6150_7.txt\n",
       "...                                                  ...    ...          ...\n",
       "10955  This movie is a fascinating drama about the Ma...      1   8610_8.txt\n",
       "17289  It's too kind to call this a \"fictionalized\" a...     -1   3060_3.txt\n",
       "5192   I was unsure of this movie before renting and ...      1   3423_9.txt\n",
       "12172  Just got out of an advance screening, and wow ...      1   9706_7.txt\n",
       "235    I doubt if the real story of the development o...      1  10211_8.txt\n",
       "\n",
       "[25000 rows x 3 columns]"
      ]
     },
     "execution_count": 16,
     "metadata": {},
     "output_type": "execute_result"
    }
   ],
   "source": [
    "reviews_test"
   ]
  },
  {
   "cell_type": "markdown",
   "id": "dc0deb5d",
   "metadata": {},
   "source": [
    "# Data Preprocessing"
   ]
  },
  {
   "cell_type": "markdown",
   "id": "b83007ca",
   "metadata": {},
   "source": [
    "Here we remove html tags, urls, special characters,Lemmanatize-\n",
    "which is better than stemming as it gives a proper word after cutting"
   ]
  },
  {
   "cell_type": "code",
   "execution_count": 20,
   "id": "40654740",
   "metadata": {},
   "outputs": [],
   "source": [
    "stopWords = stopwords.words('english')\n",
    "lemmatizer = WordNetLemmatizer()"
   ]
  },
  {
   "cell_type": "code",
   "execution_count": 21,
   "id": "fc823c85",
   "metadata": {},
   "outputs": [],
   "source": [
    "def rmvhtmltags(text):\n",
    "    remreg = re.compile('<.*?>')\n",
    "    cleartext = re.sub(remreg, '', text)\n",
    "    return text\n",
    "\n",
    "def remove_urls(vTEXT):\n",
    "    vTEXT = re.sub(r'(https|http)?:\\/\\/(\\w|\\.|\\/|\\?|\\=|\\&|\\%)*\\b', '', vTEXT, flags=re.MULTILINE)\n",
    "    return (vTEXT)\n",
    "\n",
    "def rmvspclcharacter(text):\n",
    "    clearspcl = re.sub(r'[^A-Za-z0-9\\s.]', r'', str(text).lower())\n",
    "    clearspcl = re.sub(r'\\n', r' ', text)\n",
    "    clearspcl = \" \".join([word for word in text.split() if word not in stopWords])\n",
    "    return text\n",
    "\n",
    "\n",
    "def lemmatize_words(text):\n",
    "    lemmatized_words = [lemmatizer.lemmatize(word, 'v') for word in text.split()]\n",
    "    return ('  '.join(lemmatized_words))\n",
    "\n",
    "\n",
    "# A function dataprocessing is defined where all other functions are included\n",
    "def dataprocessing(x):\n",
    "    x = rmvhtmltags(x)\n",
    "    x = remove_urls(x)\n",
    "    x = x.lower()\n",
    "    x = rmvspclcharacter(x)\n",
    "    x = remove_stopwords(x)\n",
    "    x = strip_punctuation(x)\n",
    "    x = strip_multiple_whitespaces(x)\n",
    "    x = lemmatize_words(x)\n",
    "\n",
    "    x = ' '.join([re.sub(r'\\d+', '', i) for i in word_tokenize(x)])\n",
    "    return x"
   ]
  },
  {
   "cell_type": "code",
   "execution_count": 22,
   "id": "8eb05353",
   "metadata": {},
   "outputs": [],
   "source": [
    "reviews_train['review'] = reviews_train['review'].map(lambda x: dataprocessing(x))\n",
    "reviews_test['review'] = reviews_test['review'].map(lambda x: dataprocessing(x))"
   ]
  },
  {
   "cell_type": "code",
   "execution_count": 23,
   "id": "81491497",
   "metadata": {},
   "outputs": [
    {
     "data": {
      "text/html": [
       "<div>\n",
       "<style scoped>\n",
       "    .dataframe tbody tr th:only-of-type {\n",
       "        vertical-align: middle;\n",
       "    }\n",
       "\n",
       "    .dataframe tbody tr th {\n",
       "        vertical-align: top;\n",
       "    }\n",
       "\n",
       "    .dataframe thead th {\n",
       "        text-align: right;\n",
       "    }\n",
       "</style>\n",
       "<table border=\"1\" class=\"dataframe\">\n",
       "  <thead>\n",
       "    <tr style=\"text-align: right;\">\n",
       "      <th></th>\n",
       "      <th>review</th>\n",
       "      <th>Label</th>\n",
       "      <th>file</th>\n",
       "    </tr>\n",
       "  </thead>\n",
       "  <tbody>\n",
       "    <tr>\n",
       "      <th>21492</th>\n",
       "      <td>copy vhs think the television network play yea...</td>\n",
       "      <td>-1</td>\n",
       "      <td>6844_1.txt</td>\n",
       "    </tr>\n",
       "    <tr>\n",
       "      <th>9488</th>\n",
       "      <td>extremely rat point superb extremely please fi...</td>\n",
       "      <td>1</td>\n",
       "      <td>7290_10.txt</td>\n",
       "    </tr>\n",
       "    <tr>\n",
       "      <th>16933</th>\n",
       "      <td>don t know force sit thing film wasn t worth m...</td>\n",
       "      <td>-1</td>\n",
       "      <td>2740_1.txt</td>\n",
       "    </tr>\n",
       "    <tr>\n",
       "      <th>12604</th>\n",
       "      <td>mt little sister self proclaim horror movie bu...</td>\n",
       "      <td>-1</td>\n",
       "      <td>10094_1.txt</td>\n",
       "    </tr>\n",
       "    <tr>\n",
       "      <th>8222</th>\n",
       "      <td>personally see disney movies lifetime absolute...</td>\n",
       "      <td>1</td>\n",
       "      <td>6150_7.txt</td>\n",
       "    </tr>\n",
       "  </tbody>\n",
       "</table>\n",
       "</div>"
      ],
      "text/plain": [
       "                                                  review  Label         file\n",
       "21492  copy vhs think the television network play yea...     -1   6844_1.txt\n",
       "9488   extremely rat point superb extremely please fi...      1  7290_10.txt\n",
       "16933  don t know force sit thing film wasn t worth m...     -1   2740_1.txt\n",
       "12604  mt little sister self proclaim horror movie bu...     -1  10094_1.txt\n",
       "8222   personally see disney movies lifetime absolute...      1   6150_7.txt"
      ]
     },
     "execution_count": 23,
     "metadata": {},
     "output_type": "execute_result"
    }
   ],
   "source": [
    "reviews_train[:5]"
   ]
  },
  {
   "cell_type": "markdown",
   "id": "b30604a5",
   "metadata": {},
   "source": [
    "# Model Training"
   ]
  },
  {
   "cell_type": "code",
   "execution_count": 24,
   "id": "ef885d16",
   "metadata": {},
   "outputs": [],
   "source": [
    "# separating them into lists\n",
    "y_train_label = reviews_train['Label'].tolist()\n",
    "x_train_review = reviews_train['review'].tolist()\n",
    "\n",
    "y_test_label = reviews_test['Label'].tolist()\n",
    "x_test_review = reviews_test['review'].tolist()"
   ]
  },
  {
   "cell_type": "code",
   "execution_count": 25,
   "id": "9d920960",
   "metadata": {},
   "outputs": [],
   "source": [
    "# Split to train and test data\n",
    "X_train, X_test, y_train, y_test = train_test_split(x_train_review, y_train_label, test_size=0.3, random_state=42)"
   ]
  },
  {
   "cell_type": "code",
   "execution_count": 27,
   "id": "7486ad6e",
   "metadata": {},
   "outputs": [
    {
     "name": "stdout",
     "output_type": "stream",
     "text": [
      "Cross Validation for Logistic regression on Count Vectorizer\n"
     ]
    },
    {
     "data": {
      "text/plain": [
       "array([0.86630099, 0.86696383, 0.87004972])"
      ]
     },
     "execution_count": 27,
     "metadata": {},
     "output_type": "execute_result"
    }
   ],
   "source": [
    "# Logistic Regression \n",
    "model_lr = Pipeline([('vect', CountVectorizer()),\n",
    "                  ('clf', LogisticRegression()), ])\n",
    "model_lr = model_lr.fit(X_train, y_train)\n",
    "\n",
    "print(\"Cross Validation for Logistic regression on Count Vectorizer\")\n",
    "cross_val_score(model_lr, X_train, y_train, cv=3)"
   ]
  },
  {
   "cell_type": "code",
   "execution_count": 28,
   "id": "20bfb6a6",
   "metadata": {},
   "outputs": [
    {
     "name": "stdout",
     "output_type": "stream",
     "text": [
      "Cross Validation for SVM on Count Vectorizer\n"
     ]
    },
    {
     "data": {
      "text/plain": [
       "array([0.8453891 , 0.84587691, 0.85067718])"
      ]
     },
     "execution_count": 28,
     "metadata": {},
     "output_type": "execute_result"
    }
   ],
   "source": [
    "# Support Vector Machine \n",
    "model_svm = Pipeline([('vect', CountVectorizer()),\n",
    "                     ('clf', LinearSVC()), ])\n",
    "model_svm = model_svm.fit(X_train, y_train)\n",
    "\n",
    "print(\"Cross Validation for SVM on Count Vectorizer\")\n",
    "cross_val_score(model_svm, X_train, y_train, cv=3)"
   ]
  },
  {
   "cell_type": "code",
   "execution_count": 29,
   "id": "a66f9bae",
   "metadata": {},
   "outputs": [
    {
     "name": "stdout",
     "output_type": "stream",
     "text": [
      "Cross Validation for Naive Bayes on Count Vectorizer and TFID Transformer\n"
     ]
    },
    {
     "data": {
      "text/plain": [
       "array([0.83956119, 0.85393451, 0.84759129])"
      ]
     },
     "execution_count": 29,
     "metadata": {},
     "output_type": "execute_result"
    }
   ],
   "source": [
    "# Naive Bayes\n",
    "model_nb = Pipeline([('vect', CountVectorizer()),\n",
    "                    ('clf', MultinomialNB()), ])\n",
    "model_nb = model_nb.fit(X_train, y_train)\n",
    "\n",
    "print(\"Cross Validation for Naive Bayes on Count Vectorizer and TFID Transformer\")\n",
    "cross_val_score(model_nb, X_train, y_train, cv=3)"
   ]
  },
  {
   "cell_type": "code",
   "execution_count": 33,
   "id": "962fc990",
   "metadata": {},
   "outputs": [],
   "source": [
    "def model_training(training_model):\n",
    "    if training_model == 'LR':\n",
    "        print(\"Training Logistic regression model using bag of words\")\n",
    "        lrbow = Pipeline([('vect', CountVectorizer()), ('clf', LogisticRegression()), ])\n",
    "        return lrbow\n",
    "\n",
    "    elif training_model == 'SVM':\n",
    "        print(\"Training SVM model using bag of words\")\n",
    "        svmbow = Pipeline([('vect', CountVectorizer()), ('clf', LinearSVC()), ])\n",
    "        return svmbow\n",
    "\n",
    "    elif training_model == 'NB':\n",
    "        print(\"Training NB model using bag of words\")\n",
    "        nbbow = Pipeline([('vect', CountVectorizer()), ('clf', MultinomialNB()), ])\n",
    "        return nbbow\n",
    "    \n",
    "def model_fitting_mix():\n",
    "    training_model = ['LR', 'SVM', 'NB']\n",
    "    for i in training_model:\n",
    "        model_mix = model_training(i).fit(X_train, y_train)\n",
    "        predicted_mix = model_mix.predict(X_test)\n",
    "        accuracy_mix = np.mean(predicted_mix == y_test)\n",
    "        scores_mix = cross_val_score(model_mix, X_train, y_train, cv=3)\n",
    "        print(\"Accuracy on testing dataset is: {0:0.3f}\".format(accuracy_mix))\n",
    "        print(\"Accuracy on training dataset is: {0:0.3f}\".format(scores_mix.mean()))"
   ]
  },
  {
   "cell_type": "code",
   "execution_count": 34,
   "id": "4c0ae765",
   "metadata": {},
   "outputs": [
    {
     "name": "stdout",
     "output_type": "stream",
     "text": [
      "Training Logistic regression model using bag of words\n",
      "Accuracy on testing dataset is: 0.869\n",
      "Accuracy on training dataset is: 0.868\n",
      "Training SVM model using bag of words\n",
      "Accuracy on testing dataset is: 0.853\n",
      "Accuracy on training dataset is: 0.847\n",
      "Training NB model using bag of words\n",
      "Accuracy on testing dataset is: 0.855\n",
      "Accuracy on training dataset is: 0.847\n"
     ]
    }
   ],
   "source": [
    "model_fitting_mix()"
   ]
  },
  {
   "cell_type": "markdown",
   "id": "f9e28245",
   "metadata": {},
   "source": [
    "# Model Opitimization"
   ]
  },
  {
   "cell_type": "code",
   "execution_count": 37,
   "id": "92e9e6fd",
   "metadata": {},
   "outputs": [
    {
     "name": "stdout",
     "output_type": "stream",
     "text": [
      "0.8689333333333333\n"
     ]
    }
   ],
   "source": [
    "text_pipe_logit = make_pipeline(\n",
    "    CountVectorizer(),\n",
    "    # for some reason n_jobs > 1 won't work\n",
    "    # with GridSearchCV's n_jobs > 1\n",
    "    LogisticRegression(solver=\"lbfgs\", n_jobs=1, random_state=7),\n",
    ")\n",
    "\n",
    "text_pipe_logit.fit(X_train, y_train)\n",
    "print(text_pipe_logit.score(X_test, y_test))"
   ]
  },
  {
   "cell_type": "code",
   "execution_count": 38,
   "id": "4e037b0b",
   "metadata": {},
   "outputs": [
    {
     "data": {
      "text/plain": [
       "GridSearchCV(cv=3,\n",
       "             estimator=Pipeline(steps=[('countvectorizer', CountVectorizer()),\n",
       "                                       ('logisticregression',\n",
       "                                        LogisticRegression(n_jobs=1,\n",
       "                                                           random_state=7))]),\n",
       "             n_jobs=-1,\n",
       "             param_grid={'logisticregression__C': array([1.e-05, 1.e-04, 1.e-03, 1.e-02, 1.e-01, 1.e+00])},\n",
       "             return_train_score=True)"
      ]
     },
     "execution_count": 38,
     "metadata": {},
     "output_type": "execute_result"
    }
   ],
   "source": [
    "param_grid_logit = {\"logisticregression__C\": np.logspace(-5, 0, 6)}\n",
    "grid_logit = GridSearchCV(\n",
    "    text_pipe_logit, param_grid_logit, return_train_score=True, cv=3, n_jobs=-1\n",
    ")\n",
    "\n",
    "grid_logit.fit(X_train, y_train)"
   ]
  },
  {
   "cell_type": "code",
   "execution_count": 39,
   "id": "b52c75b5",
   "metadata": {},
   "outputs": [
    {
     "data": {
      "text/plain": [
       "({'logisticregression__C': 0.1}, 0.8738285216278484)"
      ]
     },
     "execution_count": 39,
     "metadata": {},
     "output_type": "execute_result"
    }
   ],
   "source": [
    "# Best C and cv-score using this hyperparameter\n",
    "grid_logit.best_params_, grid_logit.best_score_"
   ]
  },
  {
   "cell_type": "code",
   "execution_count": 40,
   "id": "2125de2d",
   "metadata": {},
   "outputs": [
    {
     "data": {
      "text/plain": [
       "0.8782666666666666"
      ]
     },
     "execution_count": 40,
     "metadata": {},
     "output_type": "execute_result"
    }
   ],
   "source": [
    "grid_logit.score(X_test, y_test)"
   ]
  },
  {
   "cell_type": "code",
   "execution_count": null,
   "id": "e095487b",
   "metadata": {},
   "outputs": [],
   "source": []
  }
 ],
 "metadata": {
  "kernelspec": {
   "display_name": "Python 3 (ipykernel)",
   "language": "python",
   "name": "python3"
  },
  "language_info": {
   "codemirror_mode": {
    "name": "ipython",
    "version": 3
   },
   "file_extension": ".py",
   "mimetype": "text/x-python",
   "name": "python",
   "nbconvert_exporter": "python",
   "pygments_lexer": "ipython3",
   "version": "3.9.7"
  },
  "toc": {
   "base_numbering": 1,
   "nav_menu": {},
   "number_sections": true,
   "sideBar": true,
   "skip_h1_title": false,
   "title_cell": "Table of Contents",
   "title_sidebar": "Contents",
   "toc_cell": false,
   "toc_position": {},
   "toc_section_display": true,
   "toc_window_display": false
  }
 },
 "nbformat": 4,
 "nbformat_minor": 5
}
